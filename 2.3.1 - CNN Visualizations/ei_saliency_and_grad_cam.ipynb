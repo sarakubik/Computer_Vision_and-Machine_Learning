{
  "nbformat": 4,
  "nbformat_minor": 0,
  "metadata": {
    "colab": {
      "name": "ei-saliency-and-grad-cam.ipynb",
      "provenance": [],
      "collapsed_sections": [],
      "include_colab_link": true
    },
    "kernelspec": {
      "name": "python3",
      "display_name": "Python 3"
    },
    "language_info": {
      "name": "python"
    }
  },
  "cells": [
    {
      "cell_type": "markdown",
      "metadata": {
        "id": "view-in-github",
        "colab_type": "text"
      },
      "source": [
        "<a href=\"https://colab.research.google.com/github/sarakubik/Computer_Vision_and-Machine_Learning/blob/main/2.3.1%20-%20CNN%20Visualizations/ei_saliency_and_grad_cam.ipynb\" target=\"_parent\"><img src=\"https://colab.research.google.com/assets/colab-badge.svg\" alt=\"Open In Colab\"/></a>"
      ]
    },
    {
      "cell_type": "markdown",
      "metadata": {
        "id": "tDqNK9paSN_Y"
      },
      "source": [
        "# Saliency and Grad-CAM Examples\n",
        "\n",
        "[![Open In Colab <](https://colab.research.google.com/assets/colab-badge.svg)](https://colab.research.google.com/github/ShawnHymel/computer-vision-with-embedded-machine-learning/blob/master/2.3.1%20-%20CNN%20Visualizations/ei_saliency_and_grad_cam.ipynb)\n",
        "\n",
        "Import a trained model (.zip file) from Edge Impulse and copy in post-processed features of a single sample image. Run the notebook to see a saliency map and Grad-CAM heatmap.\n",
        "\n",
        "Saliency maps highlight which pixels in the input image were most important (i.e. most salient) in the decision making process.\n",
        "\n",
        "Grad-CAM looks at the output feature map of the final convolution layer to figure out which areas of the image were the most important in the decision making process.\n",
        "\n",
        "Author: EdgeImpulse, Inc.<br>\n",
        "Date: June 19, 2021<br>\n",
        "License: [Apache-2.0](apache.org/licenses/LICENSE-2.0)<br>"
      ]
    },
    {
      "cell_type": "code",
      "metadata": {
        "id": "sGv808ddkd3P"
      },
      "source": [
        "import numpy as np\n",
        "\n",
        "import tensorflow as tf\n",
        "from keras import activations, layers, models, backend\n",
        "\n",
        "import cv2\n",
        "\n",
        "import matplotlib.pyplot as plt"
      ],
      "execution_count": 1,
      "outputs": []
    },
    {
      "cell_type": "code",
      "metadata": {
        "id": "_FANkwFgQ6gi",
        "colab": {
          "base_uri": "https://localhost:8080/"
        },
        "outputId": "e5e7c0df-b620-4b3c-ed44-7aa3dc77f1a8"
      },
      "source": [
        "### Unzip model\n",
        "\n",
        "# Change this based on your .zip model filename\n",
        "model_zip_path = \"/content/ei-electronic_components_cnn-nn-classifier-tensorflow-savedmodel-model.zip\"\n",
        "\n",
        "# Unzip in place\n",
        "!unzip \"{model_zip_path}\""
      ],
      "execution_count": 3,
      "outputs": [
        {
          "output_type": "stream",
          "name": "stdout",
          "text": [
            "Archive:  /content/ei-electronic_components_cnn-nn-classifier-tensorflow-savedmodel-model.zip\n",
            "   creating: saved_model/\n",
            "   creating: saved_model/assets/\n",
            "   creating: saved_model/variables/\n",
            "  inflating: saved_model/saved_model.pb  \n",
            "  inflating: saved_model/variables/variables.index  \n",
            "  inflating: saved_model/variables/variables.data-00000-of-00001  \n"
          ]
        }
      ]
    },
    {
      "cell_type": "code",
      "metadata": {
        "id": "0MdzYh9ZkmMB"
      },
      "source": [
        "### Settings\n",
        "\n",
        "# Image resolution\n",
        "width = 28\n",
        "height = 28\n",
        "\n",
        "# Labels\n",
        "labels = [\"background\", \"capacitor\", \"diode\", \"led\", \"resistor\"]\n",
        "\n",
        "# Paste ground processed features from Edge Impulse and set ground-truth label\n",
        "img = [0.5921, 0.6014, 0.6067, 0.6037, 0.6094, 0.6126, 0.6172, 0.6188, 0.6227, 0.6176, 0.6169, 0.6200, 0.6332, 0.6321, 0.6344, 0.6397, 0.6379, 0.6374, 0.6402, 0.6379, 0.6402, 0.6379, 0.6355, 0.6298, 0.6298, 0.6309, 0.6212, 0.6251, 0.6055, 0.6055, 0.6058, 0.6073, 0.6167, 0.6179, 0.6164, 0.6186, 0.6204, 0.6246, 0.6293, 0.6344, 0.6397, 0.6385, 0.6397, 0.6379, 0.6397, 0.6402, 0.6374, 0.6374, 0.6402, 0.6379, 0.6374, 0.6367, 0.6379, 0.6367, 0.6298, 0.6309, 0.6072, 0.6053, 0.6055, 0.6140, 0.6165, 0.6167, 0.6152, 0.6156, 0.6251, 0.6282, 0.6355, 0.6374, 0.6367, 0.6379, 0.6367, 0.6402, 0.6402, 0.6374, 0.6402, 0.6410, 0.6374, 0.6397, 0.6402, 0.6397, 0.6385, 0.6385, 0.6328, 0.6259, 0.6055, 0.6041, 0.6122, 0.6165, 0.6145, 0.6147, 0.6163, 0.6251, 0.6328, 0.6344, 0.6344, 0.6339, 0.6406, 0.6376, 0.6402, 0.6374, 0.6379, 0.6397, 0.6379, 0.6392, 0.6406, 0.6383, 0.6405, 0.6412, 0.6396, 0.6376, 0.6376, 0.6367, 0.6098, 0.6110, 0.6186, 0.6182, 0.6179, 0.6191, 0.6332, 0.6397, 0.6385, 0.6362, 0.6374, 0.6362, 0.6397, 0.6379, 0.6379, 0.6433, 0.6406, 0.6370, 0.6415, 0.6442, 0.6474, 0.6456, 0.6428, 0.6392, 0.6410, 0.6479, 0.6435, 0.6374, 0.6133, 0.6159, 0.6188, 0.6169, 0.6204, 0.6251, 0.6397, 0.6385, 0.6371, 0.6419, 0.6408, 0.6406, 0.6397, 0.6405, 0.6456, 0.6520, 0.6488, 0.6457, 0.6484, 0.6480, 0.6507, 0.6480, 0.6379, 0.6410, 0.6415, 0.6394, 0.6397, 0.6362, 0.6159, 0.6138, 0.6186, 0.6251, 0.6339, 0.6374, 0.6390, 0.6362, 0.6367, 0.6367, 0.6383, 0.6402, 0.6374, 0.6422, 0.6480, 0.6475, 0.6471, 0.6503, 0.6516, 0.6511, 0.6480, 0.6415, 0.6433, 0.6506, 0.6458, 0.6402, 0.6410, 0.6379, 0.6177, 0.6174, 0.6263, 0.6390, 0.6397, 0.6397, 0.6402, 0.6402, 0.6397, 0.6410, 0.6406, 0.6397, 0.6379, 0.6429, 0.6485, 0.6427, 0.6284, 0.6271, 0.6410, 0.6468, 0.6449, 0.6431, 0.6481, 0.6509, 0.6520, 0.6513, 0.6442, 0.6374, 0.6163, 0.6191, 0.6138, 0.6231, 0.6312, 0.6288, 0.6335, 0.6358, 0.6362, 0.6366, 0.6334, 0.6353, 0.6332, 0.6345, 0.6439, 0.6603, 0.6865, 0.7017, 0.6885, 0.6689, 0.6488, 0.6516, 0.6523, 0.6488, 0.6472, 0.6520, 0.6470, 0.6387, 0.6096, 0.6133, 0.6090, 0.6318, 0.6676, 0.6793, 0.6609, 0.6542, 0.6465, 0.6516, 0.6730, 0.6757, 0.6822, 0.7057, 0.6905, 0.6226, 0.4479, 0.3238, 0.4264, 0.5788, 0.6681, 0.6595, 0.6595, 0.6584, 0.6477, 0.6520, 0.6506, 0.6456, 0.6182, 0.6265, 0.6478, 0.6393, 0.5499, 0.4914, 0.5685, 0.6114, 0.6235, 0.6102, 0.5607, 0.5732, 0.5260, 0.3817, 0.1874, 0.3061, 0.2153, 0.0340, 0.1767, 0.4035, 0.6025, 0.6874, 0.6724, 0.6632, 0.6472, 0.6447, 0.6336, 0.6307, 0.6094, 0.6418, 0.5185, 0.3274, 0.1008, 0.1093, 0.3427, 0.3723, 0.3879, 0.2124, 0.1431, 0.2629, 0.3139, 0.0082, 0.0046, 0.2774, 0.3989, 0.2454, 0.3364, 0.4440, 0.5127, 0.6858, 0.6370, 0.6726, 0.6871, 0.6878, 0.6728, 0.6502, 0.6103, 0.6370, 0.3370, 0.3059, 0.3148, 0.3494, 0.3869, 0.4153, 0.4639, 0.3723, 0.3574, 0.4603, 0.5486, 0.2045, 0.0308, 0.2195, 0.4819, 0.3786, 0.3761, 0.4399, 0.3774, 0.4807, 0.4704, 0.5453, 0.5730, 0.4547, 0.5062, 0.5098, 0.6525, 0.5292, 0.2653, 0.3711, 0.5209, 0.5462, 0.4540, 0.4499, 0.5401, 0.4036, 0.3181, 0.3766, 0.4680, 0.1981, 0.0047, 0.1652, 0.3284, 0.0610, 0.0862, 0.3560, 0.3507, 0.3125, 0.3182, 0.3101, 0.3207, 0.3349, 0.3317, 0.3631, 0.3615, 0.2387, 0.2210, 0.3245, 0.2907, 0.2663, 0.3244, 0.3383, 0.3437, 0.2211, 0.1337, 0.1703, 0.3490, 0.1824, 0.0086, 0.1240, 0.2961, 0.1005, 0.0966, 0.2993, 0.3751, 0.4542, 0.5185, 0.5718, 0.6039, 0.6309, 0.6618, 0.6770, 0.4035, 0.3071, 0.1923, 0.2747, 0.2009, 0.1050, 0.2554, 0.3095, 0.2982, 0.2513, 0.1426, 0.1945, 0.3271, 0.1975, 0.0720, 0.1610, 0.2724, 0.1338, 0.1191, 0.2420, 0.5110, 0.7102, 0.6952, 0.6906, 0.6817, 0.6750, 0.6688, 0.6484, 0.2883, 0.2073, 0.1754, 0.2361, 0.2247, 0.1277, 0.2112, 0.2810, 0.2289, 0.1769, 0.1215, 0.1258, 0.1501, 0.1136, 0.0888, 0.1021, 0.1541, 0.1132, 0.1317, 0.3321, 0.6182, 0.6780, 0.6683, 0.6653, 0.6584, 0.6600, 0.6572, 0.6447, 0.5120, 0.4690, 0.2743, 0.1722, 0.1857, 0.1547, 0.1631, 0.1605, 0.1630, 0.2182, 0.2573, 0.3026, 0.3670, 0.4318, 0.4639, 0.4174, 0.3563, 0.3913, 0.4993, 0.6199, 0.6687, 0.6699, 0.6688, 0.6688, 0.6607, 0.6537, 0.6521, 0.6471, 0.5836, 0.5746, 0.4494, 0.2022, 0.1429, 0.1623, 0.2215, 0.3971, 0.5567, 0.6096, 0.6210, 0.6433, 0.6520, 0.6566, 0.6598, 0.6695, 0.6804, 0.6839, 0.6798, 0.6697, 0.6646, 0.6669, 0.6588, 0.6588, 0.6623, 0.6584, 0.6503, 0.6429, 0.5661, 0.5707, 0.5683, 0.5422, 0.5133, 0.5363, 0.5852, 0.6290, 0.6349, 0.6321, 0.6282, 0.6254, 0.6293, 0.6374, 0.6362, 0.6369, 0.6450, 0.6435, 0.6468, 0.6607, 0.6570, 0.6542, 0.6516, 0.6520, 0.6493, 0.6482, 0.6429, 0.6385, 0.5758, 0.5730, 0.5758, 0.5896, 0.5926, 0.6005, 0.6026, 0.6028, 0.6114, 0.6209, 0.6197, 0.6227, 0.6252, 0.6316, 0.6355, 0.6344, 0.6402, 0.6436, 0.6431, 0.6436, 0.6431, 0.6431, 0.6413, 0.6429, 0.6390, 0.6367, 0.6362, 0.6402, 0.5654, 0.5691, 0.5712, 0.5696, 0.5691, 0.5869, 0.5862, 0.5892, 0.5982, 0.6040, 0.6068, 0.6095, 0.6079, 0.6111, 0.6238, 0.6266, 0.6273, 0.6312, 0.6298, 0.6379, 0.6344, 0.6321, 0.6379, 0.6367, 0.6379, 0.6402, 0.6397, 0.6355, 0.5486, 0.5502, 0.5636, 0.5629, 0.5735, 0.5781, 0.5776, 0.5758, 0.5758, 0.5804, 0.5871, 0.5966, 0.5998, 0.6037, 0.6088, 0.6129, 0.6095, 0.6106, 0.6205, 0.6265, 0.6270, 0.6254, 0.6300, 0.6191, 0.6205, 0.6335, 0.6321, 0.6175, 0.5444, 0.5440, 0.5486, 0.5514, 0.5558, 0.5546, 0.5569, 0.5586, 0.5622, 0.5689, 0.5742, 0.5765, 0.5844, 0.5899, 0.5938, 0.5938, 0.5892, 0.5970, 0.6099, 0.6134, 0.6129, 0.6148, 0.6106, 0.6060, 0.6071, 0.6196, 0.6265, 0.6179, 0.5255, 0.5235, 0.5244, 0.5315, 0.5350, 0.5336, 0.5331, 0.5424, 0.5525, 0.5590, 0.5650, 0.5641, 0.5687, 0.5714, 0.5707, 0.5730, 0.5776, 0.5866, 0.5873, 0.5892, 0.5963, 0.5979, 0.6002, 0.6067, 0.6095, 0.6083, 0.6087, 0.6099, 0.5107, 0.5073, 0.5068, 0.5138, 0.5137, 0.5216, 0.5223, 0.5181, 0.5377, 0.5421, 0.5548, 0.5579, 0.5544, 0.5549, 0.5590, 0.5679, 0.5758, 0.5742, 0.5702, 0.5742, 0.5816, 0.5854, 0.5861, 0.6026, 0.6044, 0.6049, 0.6090, 0.6067, 0.4981, 0.4958, 0.5011, 0.5029, 0.5029, 0.5034, 0.5073, 0.5011, 0.5142, 0.5316, 0.5405, 0.5421, 0.5433, 0.5468, 0.5521, 0.5532, 0.5592, 0.5560, 0.5555, 0.5664, 0.5758, 0.5788, 0.5862, 0.5832, 0.5841, 0.5958, 0.6002, 0.6002, 0.4773, 0.4831, 0.4859, 0.4831, 0.4796, 0.4829, 0.4919, 0.4921, 0.5041, 0.5184, 0.5223, 0.5283, 0.5295, 0.5306, 0.5396, 0.5417, 0.5486, 0.5497, 0.5509, 0.5546, 0.5633, 0.5712, 0.5696, 0.5719, 0.5719, 0.5769, 0.5822, 0.5849]\n",
        "true_idx = 4  # Resistor\n",
        "\n",
        "# You probably don't need to change this\n",
        "model_dir = \"/content/saved_model\""
      ],
      "execution_count": 5,
      "outputs": []
    },
    {
      "cell_type": "code",
      "metadata": {
        "colab": {
          "base_uri": "https://localhost:8080/"
        },
        "id": "CDqyA0XRknj6",
        "outputId": "1a5babca-9c61-4f59-882b-f922963faccd"
      },
      "source": [
        "### Load model file\n",
        "model = tf.keras.models.load_model(model_dir)\n",
        "model.summary()"
      ],
      "execution_count": 6,
      "outputs": [
        {
          "output_type": "stream",
          "name": "stdout",
          "text": [
            "WARNING:tensorflow:SavedModel saved prior to TF 2.5 detected when loading Keras model. Please ensure that you are saving the model with model.save() or tf.keras.models.save_model(), *NOT* tf.saved_model.save(). To confirm, there should be a file named \"keras_metadata.pb\" in the SavedModel directory.\n",
            "Model: \"sequential\"\n",
            "_________________________________________________________________\n",
            " Layer (type)                Output Shape              Param #   \n",
            "=================================================================\n",
            " conv2d (Conv2D)             (None, 28, 28, 32)        320       \n",
            "                                                                 \n",
            " max_pooling2d (MaxPooling2D  (None, 14, 14, 32)       0         \n",
            " )                                                               \n",
            "                                                                 \n",
            " conv2d_1 (Conv2D)           (None, 14, 14, 16)        4624      \n",
            "                                                                 \n",
            " max_pooling2d_1 (MaxPooling  (None, 7, 7, 16)         0         \n",
            " 2D)                                                             \n",
            "                                                                 \n",
            " flatten (Flatten)           (None, 784)               0         \n",
            "                                                                 \n",
            " dropout (Dropout)           (None, 784)               0         \n",
            "                                                                 \n",
            " y_pred (Dense)              (None, 5)                 3925      \n",
            "                                                                 \n",
            "=================================================================\n",
            "Total params: 8,869\n",
            "Trainable params: 8,869\n",
            "Non-trainable params: 0\n",
            "_________________________________________________________________\n"
          ]
        }
      ]
    },
    {
      "cell_type": "code",
      "metadata": {
        "colab": {
          "base_uri": "https://localhost:8080/",
          "height": 299
        },
        "id": "CC8OsO09k0z1",
        "outputId": "99680483-10b2-45b0-e00d-72b8cd4a7b8c"
      },
      "source": [
        "### Reshape image \n",
        "\n",
        "# Convert features to 2D Numpy array\n",
        "img_reshape = np.reshape(np.array(img), (height, width))\n",
        "\n",
        "# Show the ground-truth label\n",
        "print(\"Actual label:\", labels[true_idx])\n",
        "\n",
        "# Display image (make sure we're looking at the right thing)\n",
        "plt.imshow(img_reshape, cmap='gray', vmin=0.0, vmax=1.0)"
      ],
      "execution_count": 7,
      "outputs": [
        {
          "output_type": "stream",
          "name": "stdout",
          "text": [
            "Actual label: resistor\n"
          ]
        },
        {
          "output_type": "execute_result",
          "data": {
            "text/plain": [
              "<matplotlib.image.AxesImage at 0x7f1c376b7110>"
            ]
          },
          "metadata": {},
          "execution_count": 7
        },
        {
          "output_type": "display_data",
          "data": {
            "image/png": "[encoded data removed]",
            "text/plain": [
              "<Figure size 432x288 with 1 Axes>"
            ]
          },
          "metadata": {
            "needs_background": "light"
          }
        }
      ]
    },
    {
      "cell_type": "code",
      "metadata": {
        "colab": {
          "base_uri": "https://localhost:8080/"
        },
        "id": "kJaVVmkNqgAj",
        "outputId": "3de26c41-467d-408c-d6e0-4fec1bc74182"
      },
      "source": [
        "### The Keras model expects images in a 4D array with dimensions (sample, height, width, channel)\n",
        "\n",
        "# Add extra dimension to the image (placeholder for color channels)\n",
        "img_0 = img_reshape.reshape(img_reshape.shape + (1,))\n",
        "\n",
        "# Keras expects more than one image (in Numpy array), so convert image(s) to such array\n",
        "images = np.array([img_0])\n",
        "\n",
        "# Print dimensions of inference input\n",
        "print(images.shape)"
      ],
      "execution_count": 8,
      "outputs": [
        {
          "output_type": "stream",
          "name": "stdout",
          "text": [
            "(1, 28, 28, 1)\n"
          ]
        }
      ]
    },
    {
      "cell_type": "code",
      "metadata": {
        "colab": {
          "base_uri": "https://localhost:8080/"
        },
        "id": "V430dQ8Wp_b0",
        "outputId": "fa2f0f9e-148e-4963-97cf-ac2b9e5cfbc8"
      },
      "source": [
        "### Do a forward pass (inference) with the test image and print the predicted probabilities\n",
        "\n",
        "# Inference\n",
        "preds = model.predict(images)\n",
        "\n",
        "# Print out predictions\n",
        "for i, pred in enumerate(preds[0]):\n",
        "  print(labels[i] + \": \" + str(pred))"
      ],
      "execution_count": 9,
      "outputs": [
        {
          "output_type": "stream",
          "name": "stdout",
          "text": [
            "background: 2.0974389e-07\n",
            "capacitor: 7.067872e-06\n",
            "diode: 0.19269273\n",
            "led: 0.0013554605\n",
            "resistor: 0.80594456\n"
          ]
        }
      ]
    },
    {
      "cell_type": "code",
      "metadata": {
        "id": "qgTp5vRMqOXD"
      },
      "source": [
        "### For either algorithm, we need to remove the Softmax activation function of the last layer\n",
        "model.layers[-1].activation = None"
      ],
      "execution_count": 10,
      "outputs": []
    },
    {
      "cell_type": "markdown",
      "metadata": {
        "id": "5PIMyTWzHGfA"
      },
      "source": [
        "## Saliency Map"
      ]
    },
    {
      "cell_type": "code",
      "metadata": {
        "id": "-jhNP53mHJBv"
      },
      "source": [
        "### Based on: https://github.com/keisen/tf-keras-vis/blob/master/tf_keras_vis/saliency.py\n",
        "def get_saliency_map(img_array, model, class_idx):\n",
        "\n",
        "  # Gradient calculation requires input to be a tensor\n",
        "  img_tensor = tf.convert_to_tensor(img_array)\n",
        "\n",
        "  # Do a forward pass of model with image and track the computations on the \"tape\"\n",
        "  with tf.GradientTape(watch_accessed_variables=False, persistent=True) as tape:\n",
        "\n",
        "    # Compute (non-softmax) outputs of model with given image\n",
        "    tape.watch(img_tensor)\n",
        "    outputs = model(img_tensor, training=False)\n",
        "\n",
        "    # Get score (predicted value) of actual class\n",
        "    score = outputs[:, true_idx]\n",
        "\n",
        "  # Compute gradients of the loss with respect to the input image\n",
        "  grads = tape.gradient(score, img_tensor)  \n",
        "\n",
        "  # Finds max value in each color channel of the gradient (should be grayscale for this demo)\n",
        "  grads_disp = [np.max(g, axis=-1) for g in grads]\n",
        "\n",
        "  # There should be only one gradient heatmap for this demo\n",
        "  grad_disp = grads_disp[0]\n",
        "\n",
        "  # The absolute value of the gradient shows the effect of change at each pixel\n",
        "  # Source: https://christophm.github.io/interpretable-ml-book/pixel-attribution.html\n",
        "  grad_disp = tf.abs(grad_disp)\n",
        "\n",
        "  # Normalize to between 0 and 1 (use epsilon, a very small float, to prevent divide-by-zero error)\n",
        "  heatmap_min = np.min(grad_disp)\n",
        "  heatmap_max = np.max(grad_disp)\n",
        "  heatmap = (grad_disp - heatmap_min) / (heatmap_max - heatmap_min + tf.keras.backend.epsilon())\n",
        "\n",
        "  return heatmap.numpy()"
      ],
      "execution_count": 11,
      "outputs": []
    },
    {
      "cell_type": "code",
      "metadata": {
        "id": "Jv3ZPnM5HRwg"
      },
      "source": [
        "### Generate saliency map for the given input image\n",
        "saliency_map = get_saliency_map(images, model, true_idx)"
      ],
      "execution_count": 12,
      "outputs": []
    },
    {
      "cell_type": "code",
      "metadata": {
        "colab": {
          "base_uri": "https://localhost:8080/",
          "height": 282
        },
        "id": "55N3wuvNNn5z",
        "outputId": "832dcef4-cf87-4466-a35e-619504994de5"
      },
      "source": [
        "### Draw map\n",
        "plt.imshow(saliency_map, cmap='jet', vmin=0.0, vmax=1.0)"
      ],
      "execution_count": 13,
      "outputs": [
        {
          "output_type": "execute_result",
          "data": {
            "text/plain": [
              "<matplotlib.image.AxesImage at 0x7f1c35881150>"
            ]
          },
          "metadata": {},
          "execution_count": 13
        },
        {
          "output_type": "display_data",
          "data": {
            "image/png": "[encoded data removed]",
            "text/plain": [
              "<Figure size 432x288 with 1 Axes>"
            ]
          },
          "metadata": {
            "needs_background": "light"
          }
        }
      ]
    },
    {
      "cell_type": "code",
      "metadata": {
        "colab": {
          "base_uri": "https://localhost:8080/",
          "height": 282
        },
        "id": "MYGRdsbZQfKH",
        "outputId": "f531543a-8a77-423c-c86a-bb9000c25eb9"
      },
      "source": [
        "### Overlay the saliency map on top of the original input image\n",
        "idx = 0\n",
        "ax = plt.subplot()\n",
        "ax.imshow(images[idx,:,:,0], cmap='gray', vmin=0.0, vmax=1.0)\n",
        "ax.imshow(saliency_map, cmap='jet', alpha=0.25)"
      ],
      "execution_count": 14,
      "outputs": [
        {
          "output_type": "execute_result",
          "data": {
            "text/plain": [
              "<matplotlib.image.AxesImage at 0x7f1c37130190>"
            ]
          },
          "metadata": {},
          "execution_count": 14
        },
        {
          "output_type": "display_data",
          "data": {
            "image/png": "[encoded data removed]",
            "text/plain": [
              "<Figure size 432x288 with 1 Axes>"
            ]
          },
          "metadata": {
            "needs_background": "light"
          }
        }
      ]
    },
    {
      "cell_type": "markdown",
      "metadata": {
        "id": "__J5ufo7m_-q"
      },
      "source": [
        "## Grad-CAM"
      ]
    },
    {
      "cell_type": "code",
      "metadata": {
        "id": "o462piKhlDES"
      },
      "source": [
        "### This function comes from https://keras.io/examples/vision/grad_cam/\n",
        "def make_gradcam_heatmap(img_array, model, last_conv_layer_name, pred_index=None):\n",
        "\n",
        "  # First, we create a model that maps the input image to the activations\n",
        "  # of the last conv layer as well as the output predictions\n",
        "  grad_model = tf.keras.models.Model(\n",
        "      [model.inputs], [model.get_layer(last_conv_layer_name).output, model.output]\n",
        "  )\n",
        "\n",
        "  # Then, we compute the gradient of the top predicted class for our input image\n",
        "  # with respect to the activations of the last conv layer\n",
        "  with tf.GradientTape() as tape:\n",
        "      last_conv_layer_output, preds = grad_model(img_array)\n",
        "      if pred_index is None:\n",
        "          pred_index = tf.argmax(preds[0])\n",
        "      class_channel = preds[:, pred_index]\n",
        "\n",
        "  # This is the gradient of the output neuron (top predicted or chosen)\n",
        "  # with regard to the output feature map of the last conv layer\n",
        "  grads = tape.gradient(class_channel, last_conv_layer_output)\n",
        "\n",
        "  # This is a vector where each entry is the mean intensity of the gradient\n",
        "  # over a specific feature map channel\n",
        "  pooled_grads = tf.reduce_mean(grads, axis=(0, 1, 2))\n",
        "\n",
        "  # We multiply each channel in the feature map array\n",
        "  # by \"how important this channel is\" with regard to the top predicted class\n",
        "  # then sum all the channels to obtain the heatmap class activation\n",
        "  last_conv_layer_output = last_conv_layer_output[0]\n",
        "  heatmap = last_conv_layer_output @ pooled_grads[..., tf.newaxis]\n",
        "  heatmap = tf.squeeze(heatmap)\n",
        "\n",
        "  # The absolute value of the gradient shows the effect of change at each pixel\n",
        "  # Source: https://christophm.github.io/interpretable-ml-book/pixel-attribution.html\n",
        "  heatmap = tf.abs(heatmap)\n",
        "\n",
        "  # Normalize to between 0 and 1 (use epsilon, a very small float, to prevent divide-by-zero error)\n",
        "  heatmap_min = np.min(heatmap)\n",
        "  heatmap_max = np.max(heatmap)\n",
        "  heatmap = (heatmap - heatmap_min) / (heatmap_max - heatmap_min + tf.keras.backend.epsilon())\n",
        "\n",
        "  return heatmap.numpy()"
      ],
      "execution_count": 15,
      "outputs": []
    },
    {
      "cell_type": "code",
      "metadata": {
        "colab": {
          "base_uri": "https://localhost:8080/"
        },
        "id": "3CLU0fKpoSvv",
        "outputId": "1d3dd189-e0c7-4ebe-b41f-464dc34e8288"
      },
      "source": [
        "### We need to tell Grad-CAM where to find the last convolution layer\n",
        "\n",
        "# Print out the layers in the model\n",
        "for layer in model.layers:\n",
        "  print(layer, layer.name)\n",
        "\n",
        "# Go backwards through the model to find the last convolution layer\n",
        "last_conv_layer = None\n",
        "for layer in reversed(model.layers):\n",
        "    if 'conv' in layer.name:\n",
        "        last_conv_layer = layer.name\n",
        "        break\n",
        "\n",
        "# Give a warning if the last convolution layer could not be found\n",
        "if last_conv_layer is not None:\n",
        "  print(\"Last convolution layer found:\", last_conv_layer)\n",
        "else:\n",
        "  print(\"ERROR: Last convolution layer could not be found. Do not continue.\")"
      ],
      "execution_count": 16,
      "outputs": [
        {
          "output_type": "stream",
          "name": "stdout",
          "text": [
            "<keras.layers.convolutional.Conv2D object at 0x7f1c4530fdd0> conv2d\n",
            "<keras.layers.pooling.MaxPooling2D object at 0x7f1c3b1b2ad0> max_pooling2d\n",
            "<keras.layers.convolutional.Conv2D object at 0x7f1c3797e5d0> conv2d_1\n",
            "<keras.layers.pooling.MaxPooling2D object at 0x7f1c3797db50> max_pooling2d_1\n",
            "<keras.layers.core.flatten.Flatten object at 0x7f1c37980810> flatten\n",
            "<keras.layers.core.dropout.Dropout object at 0x7f1c37980e50> dropout\n",
            "<keras.layers.core.dense.Dense object at 0x7f1c37988810> y_pred\n",
            "Last convolution layer found: conv2d_1\n"
          ]
        }
      ]
    },
    {
      "cell_type": "code",
      "metadata": {
        "id": "U1fxqDUjnK4K"
      },
      "source": [
        "### Generate class activation heatmap\n",
        "heatmap = make_gradcam_heatmap(images, model, last_conv_layer)"
      ],
      "execution_count": 17,
      "outputs": []
    },
    {
      "cell_type": "code",
      "metadata": {
        "colab": {
          "base_uri": "https://localhost:8080/",
          "height": 282
        },
        "id": "VaMUlMGYoNYi",
        "outputId": "7f27d56b-0f7f-4371-fdc3-ef92c736ace2"
      },
      "source": [
        "### Draw map\n",
        "plt.imshow(heatmap, cmap='jet', vmin=0.0, vmax=1.0)"
      ],
      "execution_count": 18,
      "outputs": [
        {
          "output_type": "execute_result",
          "data": {
            "text/plain": [
              "<matplotlib.image.AxesImage at 0x7f1c370ad6d0>"
            ]
          },
          "metadata": {},
          "execution_count": 18
        },
        {
          "output_type": "display_data",
          "data": {
            "image/png": "[encoded data removed]",
            "text/plain": [
              "<Figure size 432x288 with 1 Axes>"
            ]
          },
          "metadata": {
            "needs_background": "light"
          }
        }
      ]
    },
    {
      "cell_type": "code",
      "metadata": {
        "colab": {
          "base_uri": "https://localhost:8080/",
          "height": 282
        },
        "id": "lpBNKFivsKij",
        "outputId": "154a6035-83c7-4d5e-800f-d56b8c60b629"
      },
      "source": [
        "### Overlay the saliency map on top of the original input image\n",
        "\n",
        "# The heatmap is a lot smaller than the original image, so we upsample it\n",
        "big_heatmap = cv2.resize(heatmap, dsize=(height, width), interpolation=cv2.INTER_CUBIC)\n",
        "\n",
        "# Draw original image with heatmap superimposed over it\n",
        "idx = 0\n",
        "ax = plt.subplot()\n",
        "ax.imshow(images[idx,:,:,0], cmap='gray', vmin=0.0, vmax=1.0)\n",
        "ax.imshow(big_heatmap, cmap='jet', alpha=0.25)"
      ],
      "execution_count": 19,
      "outputs": [
        {
          "output_type": "execute_result",
          "data": {
            "text/plain": [
              "<matplotlib.image.AxesImage at 0x7f1c37015e10>"
            ]
          },
          "metadata": {},
          "execution_count": 19
        },
        {
          "output_type": "display_data",
          "data": {
            "image/png": "[encoded data removed]",
            "text/plain": [
              "<Figure size 432x288 with 1 Axes>"
            ]
          },
          "metadata": {
            "needs_background": "light"
          }
        }
      ]
    },
    {
      "cell_type": "code",
      "metadata": {
        "id": "nYaOQKhPX4cb"
      },
      "source": [
        ""
      ],
      "execution_count": null,
      "outputs": []
    }
  ]
}