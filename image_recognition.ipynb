{
 "cells": [
  {
   "cell_type": "code",
   "execution_count": 23,
   "id": "4cb2d0f6",
   "metadata": {},
   "outputs": [],
   "source": [
    "import os\n",
    "from PIL import Image, ImageOps\n",
    "import matplotlib.pyplot as plt\n",
    "import numpy as np\n",
    "from skimage.transform import resize"
   ]
  },
  {
   "cell_type": "markdown",
   "id": "5274c0fc",
   "metadata": {},
   "source": [
    "# Open RGB image and convert to grayscale"
   ]
  },
  {
   "cell_type": "code",
   "execution_count": 18,
   "id": "f65d2f3d",
   "metadata": {},
   "outputs": [
    {
     "data": {
      "text/plain": [
       "<matplotlib.image.AxesImage at 0x226e9cb4fa0>"
      ]
     },
     "execution_count": 18,
     "metadata": {},
     "output_type": "execute_result"
    },
    {
     "data": {
      "image/png": "[encoded data removed]",
      "text/plain": [
       "<Figure size 432x288 with 1 Axes>"
      ]
     },
     "metadata": {
      "needs_background": "light"
     },
     "output_type": "display_data"
    }
   ],
   "source": [
    "image = Image.open(\"0.png\")\n",
    "\n",
    "#convert to grayscale\n",
    "image = image.convert('L')\n",
    "\n",
    "plt.imshow(image, cmap='gray', vmin=0, vmax = 255)\n",
    "\n",
    "#Another way to convert image and save as grayscale\n",
    "#gray_image = ImageOps.grayscale(image)\n",
    "#gray_image.save('gray_image.png')"
   ]
  },
  {
   "cell_type": "markdown",
   "id": "32ef9e14",
   "metadata": {},
   "source": [
    "## Convert digital image into a numpy array"
   ]
  },
  {
   "cell_type": "code",
   "execution_count": 20,
   "id": "a1d2311c",
   "metadata": {},
   "outputs": [],
   "source": [
    "### Convert the Image object to a Numpy array\n",
    "\n",
    "# Save your Numpy array in the 'img_array' variable\n",
    "image_array = None\n",
    "\n",
    "# >>> ENTER YOUR CODE HERE <<<\n",
    "\n",
    "# Convert image to Numpy array\n",
    "image_array = np.asarray(image)"
   ]
  },
  {
   "cell_type": "code",
   "execution_count": 22,
   "id": "29fe4d65",
   "metadata": {},
   "outputs": [
    {
     "name": "stdout",
     "output_type": "stream",
     "text": [
      "Shape: (96, 96)\n",
      "Array: [[155 155 156 ... 161 161 161]\n",
      " [155 155 155 ... 161 161 163]\n",
      " [155 155 155 ... 161 161 163]\n",
      " ...\n",
      " [131 131 131 ... 141 141 142]\n",
      " [128 128 128 ... 139 139 141]\n",
      " [131 131 131 ... 139 139 139]]\n",
      "First row: [155 155 156 156 155 155 155 155 155 155 155 155 155 158 158 158 158 158\n",
      " 158 158 157 157 158 158 157 157 158 158 158 161 161 161 161 161 161 161\n",
      " 163 163 163 163 163 163 163 163 161 163 163 163 163 163 163 163 163 163\n",
      " 163 163 163 163 163 163 163 163 163 163 161 163 163 163 161 161 163 163\n",
      " 163 163 163 163 163 163 163 163 163 163 163 163 163 163 163 163 163 161\n",
      " 158 158 161 161 161 161]\n",
      "First column: [155 155 155 155 155 155 155 155 154 152 155 155 155 155 155 155 155 155\n",
      " 155 155 155 155 155 155 155 155 155 155 155 155 155 155 155 155 155 155\n",
      " 155 155 155 155 155 155 155 155 155 155 155 155 155 155 155 152 152 152\n",
      " 150 150 149 150 147 147 147 149 147 147 147 147 147 147 147 147 147 147\n",
      " 147 147 141 141 141 139 139 139 139 139 139 139 139 139 133 133 133 133\n",
      " 131 131 131 131 128 131]\n"
     ]
    }
   ],
   "source": [
    "### View details about the array: print the shape, entire array, first row, and first column\n",
    "# Note that Python may leave out some values when printing the entire array.\n",
    "# Make sure that the first row and first column look correct!\n",
    "\n",
    "# >>> ENTER YOUR CODE HERE <<<\n",
    "\n",
    "# Print the shape of the array\n",
    "print(\"Shape:\", image_array.shape)\n",
    "\n",
    "# Entire array\n",
    "print(\"Array:\", image_array)\n",
    "\n",
    "# Print the first row\n",
    "print(\"First row:\", image_array[0,:])\n",
    "\n",
    "# Print the first column\n",
    "print(\"First column:\", image_array[:,0])"
   ]
  },
  {
   "cell_type": "markdown",
   "id": "4b32d121",
   "metadata": {},
   "source": [
    "# Resize Image"
   ]
  },
  {
   "cell_type": "code",
   "execution_count": 24,
   "id": "dc6b0987",
   "metadata": {},
   "outputs": [
    {
     "name": "stdout",
     "output_type": "stream",
     "text": [
      "New array shape: (28, 28)\n"
     ]
    }
   ],
   "source": [
    "### Use the \"resize\" function to resize your image array to 28x28 pixels.\n",
    "# Set the \"anti_aliasing\" parameter to True.\n",
    "# Print the array's shape(it should be (28, 28))\n",
    "\n",
    "# Save the  resized image in the 'image_resized' variable\n",
    "image_resized = None\n",
    "\n",
    "# Height and width parameters\n",
    "new_height = 28\n",
    "new_width = 28\n",
    "\n",
    "# Resize the image\n",
    "image_resized = resize(image_array, (new_height, new_width), anti_aliasing=True)\n",
    "\n",
    "# Print the new array shape\n",
    "print(\"New array shape:\", image_resized.shape)"
   ]
  },
  {
   "cell_type": "code",
   "execution_count": 25,
   "id": "64c9437e",
   "metadata": {},
   "outputs": [
    {
     "data": {
      "text/plain": [
       "<matplotlib.image.AxesImage at 0x226f0ca3730>"
      ]
     },
     "execution_count": 25,
     "metadata": {},
     "output_type": "execute_result"
    },
    {
     "data": {
      "image/png": "[encoded data removed]",
      "text/plain": [
       "<Figure size 432x288 with 1 Axes>"
      ]
     },
     "metadata": {
      "needs_background": "light"
     },
     "output_type": "display_data"
    }
   ],
   "source": [
    "### View the new array as an image (this should look all black--that's OK!)\n",
    "\n",
    "# At this point, the resized image should be saved in the 'image_resized' variable\n",
    "plt.imshow(image_resized, cmap='gray', vmin=0, vmax=255)"
   ]
  },
  {
   "cell_type": "code",
   "execution_count": 26,
   "id": "1f4b1cc4",
   "metadata": {},
   "outputs": [],
   "source": [
    "# Go back to get 8-bit grayscale values\n",
    "### Convert the normalized 0.0 to 1.0 values in your image to 0 to 255 integers\n",
    "# Save this 8-bit array back into the 'img_resized' variable\n",
    "# Round or truncate all elements to integer values (no floating point decimals)\n",
    "# Make sure all elements are between 0 and 255 (known as \"clamping\")\n",
    "\n",
    "# You can simply multiply a Numpy array by a constant to multiply all elements by that number\n",
    "image_resized = image_resized * 255\n",
    "\n",
    "# We need to round (you can also truncate) all elements\n",
    "image_resized = np.rint(image_resized)\n",
    "\n",
    "# Convert all elements to integers\n",
    "image_resized = image_resized.astype(int)\n",
    "\n",
    "# Clamp values to 0 and 255\n",
    "image_resized = np.clip(image_resized, 0, 255)"
   ]
  },
  {
   "cell_type": "code",
   "execution_count": 27,
   "id": "e35e4384",
   "metadata": {},
   "outputs": [
    {
     "data": {
      "text/plain": [
       "<matplotlib.image.AxesImage at 0x226e9af2220>"
      ]
     },
     "execution_count": 27,
     "metadata": {},
     "output_type": "execute_result"
    },
    {
     "data": {
      "image/png": "[encoded data removed]",
      "text/plain": [
       "<Figure size 432x288 with 1 Axes>"
      ]
     },
     "metadata": {
      "needs_background": "light"
     },
     "output_type": "display_data"
    }
   ],
   "source": [
    "#Draw the image again\n",
    "\n",
    "# At this point, the resized image should be saved in the 'image_resized' variable\n",
    "plt.imshow(image_resized, cmap='gray', vmin=0, vmax=255)"
   ]
  },
  {
   "cell_type": "markdown",
   "id": "0c16dfe5",
   "metadata": {},
   "source": [
    "# Draw a white bounding box rectangle on this image"
   ]
  },
  {
   "cell_type": "code",
   "execution_count": 28,
   "id": "a0aea34b",
   "metadata": {},
   "outputs": [],
   "source": [
    "### Change the required elements in the Numpy array so that a 10x10 white square is drawn in the \n",
    "# middle. Try to avoid using for loops if possible.\n",
    "\n",
    "# Start with your resized image\n",
    "image_with_box = np.copy(image_resized)\n",
    "\n",
    "# Shape of box\n",
    "box_h = 10\n",
    "box_w = 10\n",
    "\n",
    "# Get the height and width of the image\n",
    "image_h = image_with_box.shape[0]\n",
    "image_w = image_with_box.shape[1]\n",
    "\n",
    "# Find coordinates of first line\n",
    "x0 = int((image_w / 2) - (box_w / 2))\n",
    "x1 = int((image_w / 2) + (box_w / 2))\n",
    "y0 = int((image_h / 2) - (box_h / 2))\n",
    "\n",
    "# Change slice of image array elements to 255\n",
    "image_with_box[y0, x0:x1] = 255\n",
    "\n",
    "# Find coordinates of second line\n",
    "x0 = int((image_w / 2) - (box_w / 2))\n",
    "x1 = int((image_w / 2) + (box_w / 2))\n",
    "y0 = int((image_h / 2) + (box_h / 2))\n",
    "\n",
    "# Change slice of image array elements to 255\n",
    "image_with_box[y0, x0:x1] = 255\n",
    "\n",
    "# Find coordinates of third line\n",
    "x0 = int((image_w / 2) - (box_w / 2))\n",
    "y0 = int((image_h / 2) - (box_h / 2))\n",
    "y1 = int((image_h / 2) + (box_h / 2))\n",
    "\n",
    "# Change slice of image array elements to 255\n",
    "image_with_box[y0:y1, x0] = 255\n",
    "\n",
    "# Find coordinates of fourth line\n",
    "x0 = int((image_w / 2) + (box_w / 2))\n",
    "y0 = int((image_h / 2) - (box_h / 2))\n",
    "y1 = int((image_h / 2) + (box_h / 2) + 1) # Last index is non-inclusive, so we need to add +1 here\n",
    "\n",
    "# Change slice of image array elements to 255\n",
    "image_with_box[y0:y1, x0] = 255"
   ]
  },
  {
   "cell_type": "code",
   "execution_count": 29,
   "id": "bbbd25d7",
   "metadata": {},
   "outputs": [
    {
     "data": {
      "text/plain": [
       "<matplotlib.image.AxesImage at 0x226f0d05730>"
      ]
     },
     "execution_count": 29,
     "metadata": {},
     "output_type": "execute_result"
    },
    {
     "data": {
      "image/png": "[encoded data removed]",
      "text/plain": [
       "<Figure size 432x288 with 1 Axes>"
      ]
     },
     "metadata": {
      "needs_background": "light"
     },
     "output_type": "display_data"
    }
   ],
   "source": [
    "### Draw the image--you should see a white squre in the middle!\n",
    "\n",
    "# Your image should be saved in the 'img_with_square\n",
    "plt.imshow(image_with_box, cmap='gray', vmin=0, vmax=255)"
   ]
  },
  {
   "cell_type": "code",
   "execution_count": null,
   "id": "95f3805c",
   "metadata": {},
   "outputs": [],
   "source": []
  }
 ],
 "metadata": {
  "kernelspec": {
   "display_name": "Python 3",
   "language": "python",
   "name": "python3"
  },
  "language_info": {
   "codemirror_mode": {
    "name": "ipython",
    "version": 3
   },
   "file_extension": ".py",
   "mimetype": "text/x-python",
   "name": "python",
   "nbconvert_exporter": "python",
   "pygments_lexer": "ipython3",
   "version": "3.8.8"
  }
 },
 "nbformat": 4,
 "nbformat_minor": 5
}
